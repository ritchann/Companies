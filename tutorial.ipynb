{
 "cells": [
  {
   "cell_type": "code",
   "execution_count": null,
   "metadata": {},
   "outputs": [],
   "source": [
    "pip install -r requirements.txt"
   ]
  },
  {
   "cell_type": "code",
   "execution_count": null,
   "metadata": {},
   "outputs": [],
   "source": [
    "pip install pybind11"
   ]
  },
  {
   "cell_type": "code",
   "execution_count": null,
   "metadata": {
    "scrolled": true
   },
   "outputs": [],
   "source": [
    "pip install fastwer"
   ]
  },
  {
   "cell_type": "code",
   "execution_count": null,
   "metadata": {},
   "outputs": [],
   "source": [
    "pip install gensim"
   ]
  },
  {
   "cell_type": "code",
   "execution_count": 1,
   "metadata": {},
   "outputs": [],
   "source": [
    "from model import is_duplicate_levenshtein_distance, similar_names_tf_idf, similar_names_word2_vec"
   ]
  },
  {
   "cell_type": "markdown",
   "metadata": {},
   "source": [
    "Являются ли названия дубликатами(Levenshtein distance)"
   ]
  },
  {
   "cell_type": "code",
   "execution_count": 2,
   "metadata": {},
   "outputs": [
    {
     "name": "stdout",
     "output_type": "stream",
     "text": [
      "JX Nippon Oil & Gas Exploration (Brasil) Ltda and JX Nippon Oil & Gas Exploration Technical Services Corporation duplicates.\n"
     ]
    }
   ],
   "source": [
    "is_duplicate_levenshtein_distance(\"JX Nippon Oil & Gas Exploration (Brasil) Ltda\",\n",
    "                                  \"JX Nippon Oil & Gas Exploration Technical Services Corporation\")"
   ]
  },
  {
   "cell_type": "markdown",
   "metadata": {},
   "source": [
    "Похожие названия компаний(TF-IDF, K-means clustering, Levenshtein distance)"
   ]
  },
  {
   "cell_type": "code",
   "execution_count": 3,
   "metadata": {},
   "outputs": [
    {
     "name": "stderr",
     "output_type": "stream",
     "text": [
      "D:\\anaconda\\lib\\site-packages\\sklearn\\base.py:318: UserWarning: Trying to unpickle estimator KMeans from version 1.0.2 when using version 0.22.1. This might lead to breaking code or invalid results. Use at your own risk.\n",
      "  UserWarning)\n"
     ]
    },
    {
     "name": "stdout",
     "output_type": "stream",
     "text": [
      "Similar names for JX Nippon Oil & Gas Exploration (Brasil) Ltda:\n",
      "JX Nippon Oil & Gas Exploration (Brasil) Ltda\n",
      "------------------------------\n",
      "JX Nippon Oil & Gas Exploration Technical Services Corporation\n",
      "------------------------------\n",
      "JX Nippon Oil & Gas Exploration (Brasil) Ltda\n",
      "------------------------------\n",
      "JX Nippon Oil & Gas Exploration (Sarawak), Ltd\n",
      "------------------------------\n",
      "JX Nippon Oil & Gas Exploration (Myanmar) Limited\n",
      "------------------------------\n",
      "JX Nippon Oil & Gas Exploration Corporation\n",
      "------------------------------\n",
      "JX Nippon Oil & Gas Exploration (Qatar) Limited\n",
      "------------------------------\n",
      "JX Nippon Oil & Gas Exploration (Sarawak), Ltd\n",
      "------------------------------\n",
      "JX Nippon Oil & Gas Exploration Technical Services Corporation\n",
      "------------------------------\n"
     ]
    }
   ],
   "source": [
    "similar_names_tf_idf(\"JX Nippon Oil & Gas Exploration (Brasil) Ltda\")"
   ]
  },
  {
   "cell_type": "markdown",
   "metadata": {},
   "source": [
    "Похожие названия компаний(Word2vec, MiniBatchKMeans, Levenshtein distance)"
   ]
  },
  {
   "cell_type": "code",
   "execution_count": 4,
   "metadata": {},
   "outputs": [
    {
     "name": "stderr",
     "output_type": "stream",
     "text": [
      "D:\\anaconda\\lib\\site-packages\\sklearn\\base.py:318: UserWarning: Trying to unpickle estimator MiniBatchKMeans from version 1.0.2 when using version 0.22.1. This might lead to breaking code or invalid results. Use at your own risk.\n",
      "  UserWarning)\n"
     ]
    },
    {
     "name": "stdout",
     "output_type": "stream",
     "text": [
      "Similar names for JX Nippon Oil & Gas Exploration (Brasil) Ltda:\n",
      "JX Nippon Oil & Gas Exploration Australia Pty Ltd.\n",
      "------------------------------\n",
      "JX Nippon Oil & Gas Exploration (Myanmar) Limited\n",
      "------------------------------\n",
      "JX Nippon Oil & Gas Exploration (Brasil) Ltda\n",
      "------------------------------\n",
      "JX Nippon Oil & Gas Exploration (Sarawak), Ltd\n",
      "------------------------------\n",
      "JX Nippon Oil & Gas Exploration Corporation\n",
      "------------------------------\n",
      "Nippon Oil Exploration U.S.A. Limited\n",
      "------------------------------\n"
     ]
    }
   ],
   "source": [
    "similar_names_word2_vec(\"JX Nippon Oil & Gas Exploration (Brasil) Ltda\")"
   ]
  },
  {
   "cell_type": "code",
   "execution_count": null,
   "metadata": {},
   "outputs": [],
   "source": []
  }
 ],
 "metadata": {
  "kernelspec": {
   "display_name": "Python 3",
   "language": "python",
   "name": "python3"
  },
  "language_info": {
   "codemirror_mode": {
    "name": "ipython",
    "version": 3
   },
   "file_extension": ".py",
   "mimetype": "text/x-python",
   "name": "python",
   "nbconvert_exporter": "python",
   "pygments_lexer": "ipython3",
   "version": "3.7.6"
  }
 },
 "nbformat": 4,
 "nbformat_minor": 4
}
